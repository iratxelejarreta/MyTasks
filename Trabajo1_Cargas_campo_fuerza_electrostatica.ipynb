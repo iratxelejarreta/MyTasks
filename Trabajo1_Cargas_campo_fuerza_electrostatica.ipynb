{
 "cells": [
  {
   "cell_type": "markdown",
   "metadata": {},
   "source": [
    "# Cargas, campo y fuerza electrostática\n",
    "## Primer ejercicio\n",
    "Un electrón con una capacidad de trabajo de $72090×10^{−19}$ J orbita de manera perpendicular a un campo magnético de 3250 G. ¿Cuál es el radio de la órbita? ¿Y su frecuencia y periodo angular? Resuelve el mismo ejercicio para un antineutrón.\n",
    "![](Alphaparticlemagnetic.png)\n",
    "\n"
   ]
  },
  {
   "cell_type": "markdown",
   "metadata": {},
   "source": [
    "### Importar frameworks"
   ]
  },
  {
   "cell_type": "code",
   "execution_count": 94,
   "metadata": {
    "collapsed": true
   },
   "outputs": [],
   "source": [
    "from pint import UnitRegistry\n",
    "pintunits = UnitRegistry()\n",
    "import sympy as sp\n",
    "from sympy import *\n",
    "import sympy.physics.units as sp_u\n",
    "import scipy.constants as sp_c\n",
    "import math\n",
    "\n",
    "from sympy.physics.units import *\n",
    "from sympy import *\n",
    "import sympy.physics.units as pu"
   ]
  },
  {
   "cell_type": "markdown",
   "metadata": {},
   "source": [
    "### Convertir de Gauss a Tesla"
   ]
  },
  {
   "cell_type": "code",
   "execution_count": 95,
   "metadata": {},
   "outputs": [
    {
     "data": {
      "image/png": "[encoded data removed]",
      "text/latex": [
       "$$0.325 tesla$$"
      ],
      "text/plain": [
       "0.325⋅tesla"
      ]
     },
     "execution_count": 95,
     "metadata": {},
     "output_type": "execute_result"
    }
   ],
   "source": [
    "valor = (3250 * pintunits.gauss).to(pintunits.tesla).magnitude * sp_u.tesla\n",
    "valor"
   ]
  },
  {
   "cell_type": "markdown",
   "metadata": {},
   "source": [
    "### Ecuaciones\n",
    "#### Energía cinética\n",
    "$E_c = \\frac{1}{2}mv^2$\n",
    "#### Lorentz\n",
    "$q_e v_\\mathrm{e}B = \\frac{m_ev_e^2}{r}$"
   ]
  },
  {
   "cell_type": "code",
   "execution_count": 96,
   "metadata": {},
   "outputs": [
    {
     "data": {
      "image/png": "[encoded data removed]",
      "text/latex": [
       "$$\\frac{B q_{e}}{\\sqrt{m_{e}}} \\sqrt{2} \\sqrt{Ec} = \\frac{2 Ec}{r}$$"
      ],
      "text/plain": [
       "       ____          \n",
       "√2⋅B⋅╲╱ Ec ⋅qₑ   2⋅Ec\n",
       "────────────── = ────\n",
       "      ____        r  \n",
       "    ╲╱ mₑ            "
      ]
     },
     "execution_count": 96,
     "metadata": {},
     "output_type": "execute_result"
    }
   ],
   "source": [
    "# Declaramos las variables de todas las ecuaciones\n",
    "q_e, v, v_e, B, m, m_e, r, Ec = symbols('q_e v v_e B m m_e r Ec', positive = True, real = True)\n",
    "eq_lorentz = Eq(q_e*v_e*B, (m_e*v_e**2)/r)\n",
    "e_cinetica = Eq(Ec, (m*v**2)/2)\n",
    "\n",
    "ecuacion = (eq_lorentz.subs(v_e, solve(e_cinetica, v)[0])).subs(m, m_e)\n",
    "ecuacion"
   ]
  },
  {
   "cell_type": "markdown",
   "metadata": {},
   "source": [
    "#### Resolución de la ecuación\n",
    "$\\frac{\\sqrt{2E_c}Bq_e}{\\sqrt{m_e}} = \\frac{2E_c}{r}$"
   ]
  },
  {
   "cell_type": "code",
   "execution_count": 97,
   "metadata": {},
   "outputs": [
    {
     "data": {
      "image/png": "[encoded data removed]",
      "text/latex": [
       "$$\\frac{\\sqrt{2} \\sqrt{Ec} \\sqrt{m_{e}}}{B q_{e}}$$"
      ],
      "text/plain": [
       "     ____   ____\n",
       "√2⋅╲╱ Ec ⋅╲╱ mₑ \n",
       "────────────────\n",
       "      B⋅qₑ      "
      ]
     },
     "execution_count": 97,
     "metadata": {},
     "output_type": "execute_result"
    }
   ],
   "source": [
    "expresion = solve(ecuacion, r)[0]\n",
    "expresion"
   ]
  },
  {
   "cell_type": "markdown",
   "metadata": {},
   "source": [
    "$r = \\frac{\\sqrt{2E_cm}}{Bq}$"
   ]
  },
  {
   "cell_type": "code",
   "execution_count": 98,
   "metadata": {
    "collapsed": true
   },
   "outputs": [],
   "source": [
    "valor = 0.325 * sp_u.tesla\n",
    "energia_cinetica = 72090E-19 * sp_u.joule\n",
    "masa_electron = sp_c.electron_mass * sp_u.kg\n",
    "carga_electron = sp_c.electron_volt * sp_u.coulombs\n",
    "radio = expresion.subs([(B, valor), (m_e, masa_electron), (q_e, carga_electron), (Ec, energia_cinetica)])"
   ]
  },
  {
   "cell_type": "markdown",
   "metadata": {},
   "source": [
    "### Radio de la órbita:"
   ]
  },
  {
   "cell_type": "code",
   "execution_count": 99,
   "metadata": {},
   "outputs": [
    {
     "data": {
      "image/png": "[encoded data removed]",
      "text/latex": [
       "$$\\frac{0.0022009149169046 joule^{0.5} kilogram^{0.5}}{coulomb tesla}$$"
      ],
      "text/plain": [
       "                        0.5         0.5\n",
       "0.0022009149169046⋅joule   ⋅kilogram   \n",
       "───────────────────────────────────────\n",
       "             coulomb⋅tesla             "
      ]
     },
     "execution_count": 99,
     "metadata": {},
     "output_type": "execute_result"
    }
   ],
   "source": [
    "N(radio)"
   ]
  },
  {
   "cell_type": "markdown",
   "metadata": {
    "collapsed": true
   },
   "source": [
    "## Frecuencia y Periodo angular"
   ]
  },
  {
   "cell_type": "markdown",
   "metadata": {},
   "source": [
    "$W = \\frac{2pi}{T}$"
   ]
  },
  {
   "cell_type": "code",
   "execution_count": 100,
   "metadata": {},
   "outputs": [
    {
     "data": {
      "image/png": "[encoded data removed]",
      "text/latex": [
       "$$\\frac{\\sqrt{2} \\sqrt{Ec}}{\\sqrt{m}}$$"
      ],
      "text/plain": [
       "     ____\n",
       "√2⋅╲╱ Ec \n",
       "─────────\n",
       "    √m   "
      ]
     },
     "execution_count": 100,
     "metadata": {},
     "output_type": "execute_result"
    }
   ],
   "source": [
    "velocidad = solve(e_cinetica, v)[0]\n",
    "velocidad"
   ]
  },
  {
   "cell_type": "markdown",
   "metadata": {},
   "source": [
    "$W = \\frac{2pi}{2pir}{v}$"
   ]
  },
  {
   "cell_type": "code",
   "execution_count": 101,
   "metadata": {},
   "outputs": [
    {
     "data": {
      "image/png": "[encoded data removed]",
      "text/latex": [
       "$$\\frac{0.0097784073326537 joule^{0.5} kilogram^{0.5} m^{0.5}}{coulomb tesla Ec^{0.5}}$$"
      ],
      "text/plain": [
       "                        0.5         0.5   -0.5  0.5\n",
       "0.0097784073326537⋅joule   ⋅kilogram   ⋅Ec    ⋅m   \n",
       "───────────────────────────────────────────────────\n",
       "                   coulomb⋅tesla                   "
      ]
     },
     "execution_count": 101,
     "metadata": {},
     "output_type": "execute_result"
    }
   ],
   "source": [
    "tiempo = 2*pi*radio/velocidad\n",
    "N(tiempo)"
   ]
  },
  {
   "cell_type": "code",
   "execution_count": 102,
   "metadata": {},
   "outputs": [
    {
     "data": {
      "image/png": "[encoded data removed]",
      "text/latex": [
       "$$\\frac{642.557125453111 coulomb tesla Ec^{0.5}}{joule^{0.5} kilogram^{0.5} m^{0.5}}$$"
      ],
      "text/plain": [
       "                              -0.5         -0.5         0.5  -0.5\n",
       "642.557125453111⋅coulomb⋅joule    ⋅kilogram    ⋅tesla⋅Ec   ⋅m    "
      ]
     },
     "execution_count": 102,
     "metadata": {},
     "output_type": "execute_result"
    }
   ],
   "source": [
    "frecuencia = 2*pi/tiempo\n",
    "N(frecuencia)"
   ]
  },
  {
   "cell_type": "code",
   "execution_count": 103,
   "metadata": {},
   "outputs": [
    {
     "data": {
      "image/png": "[encoded data removed]",
      "text/latex": [
       "$$\\frac{642.557125453111 coulomb tesla Ec^{0.5}}{joule^{0.5} kilogram^{0.5} m^{0.5}}$$"
      ],
      "text/plain": [
       "                              -0.5         -0.5         0.5  -0.5\n",
       "642.557125453111⋅coulomb⋅joule    ⋅kilogram    ⋅tesla⋅Ec   ⋅m    "
      ]
     },
     "execution_count": 103,
     "metadata": {},
     "output_type": "execute_result"
    }
   ],
   "source": [
    "frecuencia2 = velocidad/radio\n",
    "N(frecuencia2)"
   ]
  },
  {
   "cell_type": "markdown",
   "metadata": {},
   "source": [
    "###### Antineutrón: no orbita. carga=0"
   ]
  },
  {
   "cell_type": "markdown",
   "metadata": {},
   "source": [
    "## Segundo ejercicio\n",
    "Calcula el módulo de la fuerza magnética que actúa sobre un electrón proveniente del Sol que penetra en la aurora boreal joviana. Haz cálculos aproximados basados en la búsqueda de información relativa a Júpiter, su campo magnético y el fundamento físico de una aurora boreal. Asume que la velocidad del electrón es prácticamente la de la luz.\n",
    "![](http://en.es-static.us/upl/2011/08/jupiter-aurora.jpg)\n",
    "Fuente: http://en.es-static.us/upl/2011/08/jupiter-aurora.jpg"
   ]
  },
  {
   "cell_type": "markdown",
   "metadata": {},
   "source": [
    "#### Lorentz force\n",
    "\n",
    "$$F = {qv}{B}$$"
   ]
  },
  {
   "cell_type": "markdown",
   "metadata": {},
   "source": [
    "q: carga $q = 1.6*10^{-19}$ C <br />\n",
    "v: velocidad de partícula (velocidad de la luz) $v = 3*10^{8}$ m/s <br />\n",
    "B: campo magnético $B = 778*10^{6}$ Km "
   ]
  },
  {
   "cell_type": "code",
   "execution_count": 104,
   "metadata": {},
   "outputs": [
    {
     "data": {
      "image/png": "[encoded data removed]",
      "text/latex": [
       "$$B q v$$"
      ],
      "text/plain": [
       "B⋅q⋅v"
      ]
     },
     "execution_count": 104,
     "metadata": {},
     "output_type": "execute_result"
    }
   ],
   "source": [
    "F, q, v, B = symbols('F q v B', positive = True, real = True)\n",
    "f_lorentz = Eq(F, (q*v*B))\n",
    "ecu = solve(f_lorentz, F)[0]\n",
    "ecu"
   ]
  },
  {
   "cell_type": "code",
   "execution_count": 105,
   "metadata": {},
   "outputs": [
    {
     "data": {
      "image/png": "[encoded data removed]",
      "text/latex": [
       "$$\\frac{0.03731816517184 coulomb}{second} kilometer meter$$"
      ],
      "text/plain": [
       "0.03731816517184⋅coulomb⋅kilometer⋅meter\n",
       "────────────────────────────────────────\n",
       "                 second                 "
      ]
     },
     "execution_count": 105,
     "metadata": {},
     "output_type": "execute_result"
    }
   ],
   "source": [
    "carga = 1.6E-19 * sp_u.coulombs\n",
    "velocidad_particula = sp_c.speed_of_light * sp_u.m / sp_u.second\n",
    "campo_magnetico = 778E6 * sp_u.km\n",
    "\n",
    "fuerza_magnetica = ecu.subs([(q, carga), (v, velocidad_particula), (B, campo_magnetico)])\n",
    "N(fuerza_magnetica)"
   ]
  },
  {
   "cell_type": "markdown",
   "metadata": {},
   "source": [
    "## Tercer ejercicio\n",
    "\n",
    "Se tiene una cantidad pequeña de material lubricante de masa 2.41×1010 u (unidades de masa atómica) y una carga de 4.8×10−19 C. La gota de aceite se encuentra flotando en equilibrio gracias a la harmonía de la fuerza gravitatoria más otra fuerza extra de naturaleza eléctrica. ¿Cuál es la dirección y magnitud del campo eléctrico originado por dicha fuerza? ¿A qué te recuerda la experiencia descrita? Justifica tu respuesta.\n",
    "![](t2actividad3.png)"
   ]
  },
  {
   "cell_type": "markdown",
   "metadata": {},
   "source": [
    "$$E = \\frac{mg}{q}$$"
   ]
  },
  {
   "cell_type": "markdown",
   "metadata": {},
   "source": [
    "$m = 2.41*10^{10}$ U <br />\n",
    "$g = 9.81$ N <br />\n",
    "$q = 4.8*10^{-19}$ C "
   ]
  },
  {
   "cell_type": "code",
   "execution_count": 106,
   "metadata": {},
   "outputs": [
    {
     "data": {
      "image/png": "[encoded data removed]",
      "text/latex": [
       "$$\\frac{817.608826575928 volt}{meter}$$"
      ],
      "text/plain": [
       "817.608826575928⋅volt\n",
       "─────────────────────\n",
       "        meter        "
      ]
     },
     "execution_count": 106,
     "metadata": {},
     "output_type": "execute_result"
    }
   ],
   "source": [
    "m, g, q, E = symbols('m g q E', positive = True, real = True)\n",
    "\n",
    "m = 2.41E10 * sp_u.amu.convert_to(pu.kilogram)\n",
    "g = sp_u.acceleration_due_to_gravity\n",
    "q = 4.8E-19 * sp_u.C\n",
    "\n",
    "formula = Eq(E, ((m*g)/q))\n",
    "resultado = convert_to((solve(formula, E)[0]), volt/meter)\n",
    "N(resultado)"
   ]
  }
 ],
 "metadata": {
  "kernelspec": {
   "display_name": "Python 3",
   "language": "python",
   "name": "python3"
  },
  "language_info": {
   "codemirror_mode": {
    "name": "ipython",
    "version": 3
   },
   "file_extension": ".py",
   "mimetype": "text/x-python",
   "name": "python",
   "nbconvert_exporter": "python",
   "pygments_lexer": "ipython3",
   "version": "3.6.3"
  },
  "widgets": {
   "application/vnd.jupyter.widget-state+json": {
    "state": {},
    "version_major": 2,
    "version_minor": 0
   }
  }
 },
 "nbformat": 4,
 "nbformat_minor": 2
}
